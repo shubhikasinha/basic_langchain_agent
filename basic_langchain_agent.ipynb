{
  "nbformat": 4,
  "nbformat_minor": 0,
  "metadata": {
    "colab": {
      "provenance": []
    },
    "kernelspec": {
      "name": "python3",
      "display_name": "Python 3"
    },
    "language_info": {
      "name": "python"
    }
  },
  "cells": [
    {
      "cell_type": "code",
      "execution_count": 33,
      "metadata": {
        "id": "AESXjHDIZCmj"
      },
      "outputs": [],
      "source": [
        "import os\n",
        "os.environ[\"GOOGLE_API_KEY\"] = \"my_gemini_key\""
      ]
    },
    {
      "cell_type": "code",
      "source": [
        "!pip install -q langchain-google-genai langchain-community langchain-core requests duckduckgo-search"
      ],
      "metadata": {
        "colab": {
          "base_uri": "https://localhost:8080/"
        },
        "id": "pEvBaSuXaSNk",
        "outputId": "5b685da5-841a-4cac-8972-919599a8e2c5"
      },
      "execution_count": 24,
      "outputs": [
        {
          "output_type": "stream",
          "name": "stdout",
          "text": [
            "\u001b[?25l   \u001b[90m━━━━━━━━━━━━━━━━━━━━━━━━━━━━━━━━━━━━━━━━\u001b[0m \u001b[32m0.0/47.8 kB\u001b[0m \u001b[31m?\u001b[0m eta \u001b[36m-:--:--\u001b[0m\r\u001b[2K   \u001b[90m━━━━━━━━━━━━━━━━━━━━━━━━━━━━━━━━━━━━━━━━\u001b[0m \u001b[32m47.8/47.8 kB\u001b[0m \u001b[31m1.7 MB/s\u001b[0m eta \u001b[36m0:00:00\u001b[0m\n",
            "\u001b[?25h\u001b[?25l   \u001b[90m━━━━━━━━━━━━━━━━━━━━━━━━━━━━━━━━━━━━━━━━\u001b[0m \u001b[32m0.0/1.4 MB\u001b[0m \u001b[31m?\u001b[0m eta \u001b[36m-:--:--\u001b[0m\r\u001b[2K   \u001b[91m━━━━━━━━━━━━━━━━\u001b[0m\u001b[90m╺\u001b[0m\u001b[90m━━━━━━━━━━━━━━━━━━━━━━━\u001b[0m \u001b[32m0.6/1.4 MB\u001b[0m \u001b[31m16.7 MB/s\u001b[0m eta \u001b[36m0:00:01\u001b[0m\r\u001b[2K   \u001b[90m━━━━━━━━━━━━━━━━━━━━━━━━━━━━━━━━━━━━━━━━\u001b[0m \u001b[32m1.4/1.4 MB\u001b[0m \u001b[31m20.3 MB/s\u001b[0m eta \u001b[36m0:00:00\u001b[0m\n",
            "\u001b[?25h\u001b[31mERROR: pip's dependency resolver does not currently take into account all the packages that are installed. This behaviour is the source of the following dependency conflicts.\n",
            "google-generativeai 0.8.5 requires google-ai-generativelanguage==0.6.15, but you have google-ai-generativelanguage 0.6.18 which is incompatible.\u001b[0m\u001b[31m\n",
            "\u001b[0m"
          ]
        }
      ]
    },
    {
      "cell_type": "code",
      "source": [
        "from langchain_google_genai import ChatGoogleGenerativeAI\n",
        "from langchain_core.tools import tool\n",
        "import requests"
      ],
      "metadata": {
        "id": "te_e82UMadwY"
      },
      "execution_count": 35,
      "outputs": []
    },
    {
      "cell_type": "code",
      "source": [
        "from langchain_community.tools import DuckDuckGoSearchRun\n",
        "\n",
        "search_tool = DuckDuckGoSearchRun()\n",
        "\n",
        "results = search_tool.invoke(\"what is the capital of india\")"
      ],
      "metadata": {
        "colab": {
          "base_uri": "https://localhost:8080/"
        },
        "id": "ztHwbgwZatWH",
        "outputId": "f2586d3e-fdb4-47a1-98fc-6d92a24061b9"
      },
      "execution_count": 74,
      "outputs": [
        {
          "output_type": "stream",
          "name": "stderr",
          "text": [
            "/usr/local/lib/python3.11/dist-packages/langchain_community/utilities/duckduckgo_search.py:63: RuntimeWarning: This package (`duckduckgo_search`) has been renamed to `ddgs`! Use `pip install ddgs` instead.\n",
            "  with DDGS() as ddgs:\n"
          ]
        }
      ]
    },
    {
      "cell_type": "code",
      "source": [
        "results"
      ],
      "metadata": {
        "colab": {
          "base_uri": "https://localhost:8080/",
          "height": 122
        },
        "id": "PdDloWq1bbZn",
        "outputId": "b2b748cd-4304-4a53-f3bf-657ee1ed885e"
      },
      "execution_count": 75,
      "outputs": [
        {
          "output_type": "execute_result",
          "data": {
            "text/plain": [
              "\"4 days ago · New Delhi, national capital of India. It is situated in the north-central part of the country on the west bank of the Yamuna River, adjacent to and just south of Delhi city (Old Delhi) and … The national capital of India, New Delhi is jointly administered by both the Central Government of India and the local Government of Delhi, it is also the capital of the National Capital Territory … Aug 9, 2018 · What is the Capital of India? New Delhi hosts the President's official residence, known as Rashtrapati Bhavan. India, also known as the Republic of India is located in South Asia. India is … The capital of India is New Delhi. This capital city is located in the northern region of India and it is a district in the much larger Delhi Metro Area. May 24, 2023 · The capital of India is New Delhi, located in the north-central part of the country to the west of the Yamuna River. Calcutta (now Kolkata, the capital of West Bengal) was the …\""
            ],
            "application/vnd.google.colaboratory.intrinsic+json": {
              "type": "string"
            }
          },
          "metadata": {},
          "execution_count": 75
        }
      ]
    },
    {
      "cell_type": "code",
      "source": [
        "llm = ChatGoogleGenerativeAI(model=\"gemini-1.5-flash\")"
      ],
      "metadata": {
        "id": "4yveJ02Tbdhz"
      },
      "execution_count": 62,
      "outputs": []
    },
    {
      "cell_type": "code",
      "source": [
        "llm.invoke('hi')"
      ],
      "metadata": {
        "colab": {
          "base_uri": "https://localhost:8080/"
        },
        "id": "KZqIfwOKkD8H",
        "outputId": "f19f067a-fdc5-4a3f-9715-668eab3083f7"
      },
      "execution_count": 64,
      "outputs": [
        {
          "output_type": "execute_result",
          "data": {
            "text/plain": [
              "AIMessage(content='Hi there! How can I help you today?', additional_kwargs={}, response_metadata={'prompt_feedback': {'block_reason': 0, 'safety_ratings': []}, 'finish_reason': 'STOP', 'model_name': 'gemini-1.5-flash', 'safety_ratings': []}, id='run--7d53809a-10f0-4469-ae94-fa92f883e863-0', usage_metadata={'input_tokens': 1, 'output_tokens': 11, 'total_tokens': 12, 'input_token_details': {'cache_read': 0}})"
            ]
          },
          "metadata": {},
          "execution_count": 64
        }
      ]
    },
    {
      "cell_type": "code",
      "source": [
        "from langchain.agents import create_react_agent, AgentExecutor\n",
        "from langchain import hub"
      ],
      "metadata": {
        "id": "UIZIGq_dkbDj"
      },
      "execution_count": 65,
      "outputs": []
    },
    {
      "cell_type": "code",
      "source": [
        "prompt = hub.pull(\"hwchase17/react\")"
      ],
      "metadata": {
        "colab": {
          "base_uri": "https://localhost:8080/"
        },
        "id": "s6ynedmwuZ5T",
        "outputId": "47f9d888-8dc0-4376-d7fa-5287cf8cbca1"
      },
      "execution_count": 66,
      "outputs": [
        {
          "output_type": "stream",
          "name": "stderr",
          "text": [
            "/usr/local/lib/python3.11/dist-packages/langsmith/client.py:272: LangSmithMissingAPIKeyWarning: API key must be provided when using hosted LangSmith API\n",
            "  warnings.warn(\n"
          ]
        }
      ]
    },
    {
      "cell_type": "code",
      "source": [
        "agent = create_react_agent(\n",
        "    llm = llm,\n",
        "    tools = [search_tool],\n",
        "    prompt = prompt\n",
        ")"
      ],
      "metadata": {
        "id": "OGLzIXpsvEEk"
      },
      "execution_count": 67,
      "outputs": []
    },
    {
      "cell_type": "code",
      "source": [
        "agent_executor = AgentExecutor(\n",
        "    agent = agent,\n",
        "    tools = [search_tool],\n",
        "    verbose = True\n",
        ")"
      ],
      "metadata": {
        "id": "sbIL_RDWvdOi"
      },
      "execution_count": 68,
      "outputs": []
    },
    {
      "cell_type": "code",
      "source": [
        "response = agent_executor.invoke({\"input\" : \"what are 3 ways to mumbai from kashmir\"})\n",
        "print(response)"
      ],
      "metadata": {
        "colab": {
          "base_uri": "https://localhost:8080/"
        },
        "id": "HEXzqLLPR0-D",
        "outputId": "79e4daa1-f4f2-4b84-c543-c8c327c54757"
      },
      "execution_count": 72,
      "outputs": [
        {
          "output_type": "stream",
          "name": "stdout",
          "text": [
            "\n",
            "\n",
            "\u001b[1m> Entering new AgentExecutor chain...\u001b[0m\n",
            "\u001b[32;1m\u001b[1;3mThought: I need to find transportation options from Kashmir to Mumbai.  I'll use DuckDuckGo to search for this.\n",
            "\n",
            "Action: duckduckgo_search\n",
            "Action Input: \"3 ways to travel from Kashmir to Mumbai\"\n",
            "\u001b[0m"
          ]
        },
        {
          "output_type": "stream",
          "name": "stderr",
          "text": [
            "/usr/local/lib/python3.11/dist-packages/langchain_community/utilities/duckduckgo_search.py:63: RuntimeWarning: This package (`duckduckgo_search`) has been renamed to `ddgs`! Use `pip install ddgs` instead.\n",
            "  with DDGS() as ddgs:\n"
          ]
        },
        {
          "output_type": "stream",
          "name": "stdout",
          "text": [
            "\u001b[36;1m\u001b[1;3mDec 13, 2024 · Explore the enchanting journey from Mumbai to Kashmir, known as 'Paradise on Earth.' This … Browse through the various curated Kashmir tour packages from Mumbai at Travel My Kashmir and begin your … Oct 3, 2024 · Experience the magic of nature on the Mahasarovar Journey from Mumbai to Kashmir Great Lakes Trek and come back with stories to last a lifetime! The distance if we take a flight from Mumbai to Srinagar will be around 2,200 kilometers (about 1,367 miles). Jan 22, 2025 · Traveling to Kashmir by train from cities like Mumbai and Kolkata takes longer but is a budget-friendly and immersive option. Let’s explore the routes: From Mumbai. Train Route: Board a train from Mumbai to Jammu Tawi. Popular trains include the Swaraj Express and Mumbai-Jammu Tawi Rajdhani Express. Travel Time: 30-36 hours to Jammu. Oct 24, 2024 · Book Kashmir tour packages from Mumbai with best deals, scenic landscapes & hassle-free …\u001b[0m\u001b[32;1m\u001b[1;3mThought: The search results mention air travel, train travel, and possibly road travel (implied by tour packages).  I need to clarify the road travel option.\n",
            "\n",
            "Action: duckduckgo_search\n",
            "Action Input: \"driving from Kashmir to Mumbai\"\n",
            "\u001b[0m\u001b[36;1m\u001b[1;3mGet directions, maps, and traffic for Ashburn, VA. Check flight prices and hotel availability for your visit. Steer Safe Driving School, situated in Ashburn, VA, offers DMV-approved driving courses. Specializing in training both teens and adults, their expert instructors provide tailored behind-the-wheel training to build confident and responsible drivers. The school boasts a modern fleet of vehicles designed for beginners, ensuring a safe and comfortable driving experience. Driving directions to Ashburn, VA including road conditions, live traffic updates, and reviews of local businesses along the way. Driving directions to 44095 Pipeline Plz, Ashburn, Virginia including road conditions, live traffic updates, and reviews of local businesses along the way. Official MapQuest website, find driving directions, maps, live traffic updates and road conditions. Find nearby businesses, restaurants and hotels. Explore!\u001b[0m"
          ]
        },
        {
          "output_type": "stream",
          "name": "stderr",
          "text": [
            "/usr/local/lib/python3.11/dist-packages/langchain_community/utilities/duckduckgo_search.py:63: RuntimeWarning: This package (`duckduckgo_search`) has been renamed to `ddgs`! Use `pip install ddgs` instead.\n",
            "  with DDGS() as ddgs:\n"
          ]
        },
        {
          "output_type": "stream",
          "name": "stdout",
          "text": [
            "\u001b[32;1m\u001b[1;3mThought:The second DuckDuckGo search was unhelpful.  It seems to be focused on Ashburn, VA, and not relevant to the Kashmir to Mumbai route.  I'll need to rephrase my search to focus on the travel options. I'll stick with the information from the first search.\n",
            "\n",
            "\n",
            "Thought: I now know the final answer.\n",
            "\n",
            "Final Answer: Three ways to travel from Kashmir to Mumbai are: by air (flying from Srinagar to Mumbai), by train (taking a train from Jammu Tawi to Mumbai after reaching Jammu Tawi by train or other means from Kashmir), and by road (as part of a tour package which likely involves a combination of road and other transport).\n",
            "\u001b[0m\n",
            "\n",
            "\u001b[1m> Finished chain.\u001b[0m\n",
            "{'input': 'what are 3 ways to mumbai from kashmir', 'output': 'Three ways to travel from Kashmir to Mumbai are: by air (flying from Srinagar to Mumbai), by train (taking a train from Jammu Tawi to Mumbai after reaching Jammu Tawi by train or other means from Kashmir), and by road (as part of a tour package which likely involves a combination of road and other transport).'}\n"
          ]
        }
      ]
    },
    {
      "cell_type": "code",
      "source": [
        "response['output']"
      ],
      "metadata": {
        "colab": {
          "base_uri": "https://localhost:8080/",
          "height": 53
        },
        "id": "wAt__gg5SIYR",
        "outputId": "3cd59d6d-7b5b-4b81-c16c-91a9a9e38247"
      },
      "execution_count": 73,
      "outputs": [
        {
          "output_type": "execute_result",
          "data": {
            "text/plain": [
              "'Three ways to travel from Kashmir to Mumbai are: by air (flying from Srinagar to Mumbai), by train (taking a train from Jammu Tawi to Mumbai after reaching Jammu Tawi by train or other means from Kashmir), and by road (as part of a tour package which likely involves a combination of road and other transport).'"
            ],
            "application/vnd.google.colaboratory.intrinsic+json": {
              "type": "string"
            }
          },
          "metadata": {},
          "execution_count": 73
        }
      ]
    },
    {
      "cell_type": "code",
      "source": [
        "response = agent_executor.invoke({\"input\" : \"who won the ipl match 2023\"})\n",
        "print(response)"
      ],
      "metadata": {
        "colab": {
          "base_uri": "https://localhost:8080/"
        },
        "id": "2h96sDoqvqJ9",
        "outputId": "76d8846b-8004-4b21-bcb5-8fb77b4da83f"
      },
      "execution_count": 69,
      "outputs": [
        {
          "output_type": "stream",
          "name": "stdout",
          "text": [
            "\n",
            "\n",
            "\u001b[1m> Entering new AgentExecutor chain...\u001b[0m\n",
            "\u001b[32;1m\u001b[1;3mThought: I need to find out who won the IPL 2023 final match.  I can use duckduckgo_search to find this information.\n",
            "\n",
            "Action: duckduckgo_search\n",
            "Action Input: \"who won ipl 2023\"\n",
            "\u001b[0m"
          ]
        },
        {
          "output_type": "stream",
          "name": "stderr",
          "text": [
            "/usr/local/lib/python3.11/dist-packages/langchain_community/utilities/duckduckgo_search.py:63: RuntimeWarning: This package (`duckduckgo_search`) has been renamed to `ddgs`! Use `pip install ddgs` instead.\n",
            "  with DDGS() as ddgs:\n"
          ]
        },
        {
          "output_type": "stream",
          "name": "stdout",
          "text": [
            "\u001b[36;1m\u001b[1;3mJun 25, 2025 · 대한민국 과 북한 에서 사용되는 화폐 단위. 대한민국 원 과 북한 원 이 있다. 기호는 ₩. 영어로는 Korean Won 정도로 불린다. 중국어로는 韓元, 일본어로는 ウォ … The meaning of WON is past tense and past participle of win. Convert 1 USD to KRW with the Wise Currency Converter. Analyze historical currency charts or live US dollar / … Mar 19, 2024 · The Korean Won, denoted by the symbol ₩ and the currency code KRW, is the official currency of South … WON definition: 1. past simple and past participle of win 2. past simple and past participle of win 3. past simple…. Learn …\u001b[0m\u001b[32;1m\u001b[1;3mThought:The previous search result is irrelevant. I need to try a more specific search query.\n",
            "\n",
            "Action: duckduckgo_search\n",
            "Action Input: \"IPL 2023 winner\"\n",
            "\u001b[0m"
          ]
        },
        {
          "output_type": "stream",
          "name": "stderr",
          "text": [
            "/usr/local/lib/python3.11/dist-packages/langchain_community/utilities/duckduckgo_search.py:63: RuntimeWarning: This package (`duckduckgo_search`) has been renamed to `ddgs`! Use `pip install ddgs` instead.\n",
            "  with DDGS() as ddgs:\n"
          ]
        },
        {
          "output_type": "stream",
          "name": "stdout",
          "text": [
            "\u001b[36;1m\u001b[1;3mThe official IPL website with live scores, match updates, team rankings, all the latest news, and videos . Follow your favorite teams and players! Feb 4, 2024 · Intense pulsed light (IPL) therapy, also known as a photo facial, is a way to improve the color and texture of your skin without surgery. It can undo some of the visible damage … The Indian Premier League (IPL) is a professional Twenty20 (T20) cricket league in India, organised by the Board of Control for Cricket in India (BCCI). [1] . Founded in 2007, it features … Indian Premier League, 2025 - Find match schedules, squad details, and links to live scores, news, and stadium info. Stay updated on cricket.com. Jun 4, 2025 · Indian Premier League 2025 (IPL) Schedule, Points Table, Final Teams List, News, Venue Details, Series & Player Stats, Expert Analysis, Videos and much more details made …\u001b[0m\u001b[32;1m\u001b[1;3mThought:The search results are still not directly answering the question.  I need to refine my search or try a different search engine. Let's try a more specific query focusing on the final match.\n",
            "\n",
            "Action: duckduckgo_search\n",
            "Action Input: \"IPL 2023 final winner\"\n",
            "\u001b[0m"
          ]
        },
        {
          "output_type": "stream",
          "name": "stderr",
          "text": [
            "/usr/local/lib/python3.11/dist-packages/langchain_community/utilities/duckduckgo_search.py:63: RuntimeWarning: This package (`duckduckgo_search`) has been renamed to `ddgs`! Use `pip install ddgs` instead.\n",
            "  with DDGS() as ddgs:\n"
          ]
        },
        {
          "output_type": "stream",
          "name": "stdout",
          "text": [
            "\u001b[36;1m\u001b[1;3mOct 3, 2024 · Jadeja’s heroic final-over boundary sealed a 5-wicket win, as CSK finished with 171/5 in 15 overs, bringing home the title in a dramatic last-ball finish. Gujarat Titans, captained by … Jun 3, 2025 · Chennai Super Kings won in 2023 against Gujarat Titans in Ahmedabad. Kolkata Knight Riders won in 2024, defeating Sunrisers Hyderabad in Chennai. Mumbai Indians have won … Apr 25, 2025 · Who is the winner of IPL 2023? The IPL 2023 winner was Chennai Super Kings (CSK). Mar 24, 2025 · CSK Wins IPL 2023: Chennai Super Kings Lift the Trophy for the Fifth Time! The Chennai Super Kings (CSK) have once again proven their mastery of the game by clinching the … Jun 3, 2025 · IPL Winners List: Check out the list of Indian Premier League (IPL) winners from 2008 until 2025, including runners-up, venue, player of series, man of the match, most IPL wins, and …\u001b[0m\u001b[32;1m\u001b[1;3mThought: I now see several sources confirming that Chennai Super Kings (CSK) won the IPL 2023 final.\n",
            "\n",
            "Final Answer: Chennai Super Kings (CSK)\n",
            "\u001b[0m\n",
            "\n",
            "\u001b[1m> Finished chain.\u001b[0m\n",
            "{'input': 'who won the ipl match 2023', 'output': 'Chennai Super Kings (CSK)'}\n"
          ]
        }
      ]
    },
    {
      "cell_type": "code",
      "source": [
        "response['output']"
      ],
      "metadata": {
        "colab": {
          "base_uri": "https://localhost:8080/",
          "height": 35
        },
        "id": "RdPi1_S5zMON",
        "outputId": "13a084af-039f-47a9-8bea-6d33db3c04ef"
      },
      "execution_count": 70,
      "outputs": [
        {
          "output_type": "execute_result",
          "data": {
            "text/plain": [
              "'Chennai Super Kings (CSK)'"
            ],
            "application/vnd.google.colaboratory.intrinsic+json": {
              "type": "string"
            }
          },
          "metadata": {},
          "execution_count": 70
        }
      ]
    },
    {
      "cell_type": "code",
      "source": [
        "response = agent_executor.invoke({\"input\" : \"latest news of new delhi\"})\n",
        "print(response)"
      ],
      "metadata": {
        "colab": {
          "base_uri": "https://localhost:8080/"
        },
        "id": "X-nWIXOhSRk5",
        "outputId": "1209d25b-d045-41dc-859e-2c732ca9dab3"
      },
      "execution_count": 76,
      "outputs": [
        {
          "output_type": "stream",
          "name": "stdout",
          "text": [
            "\n",
            "\n",
            "\u001b[1m> Entering new AgentExecutor chain...\u001b[0m\n",
            "\u001b[32;1m\u001b[1;3mThought: I need to find recent news articles about New Delhi.  A web search will be the best way to achieve this.\n",
            "Action: duckduckgo_search\n",
            "Action Input: \"latest news New Delhi\"\u001b[0m"
          ]
        },
        {
          "output_type": "stream",
          "name": "stderr",
          "text": [
            "/usr/local/lib/python3.11/dist-packages/langchain_community/utilities/duckduckgo_search.py:63: RuntimeWarning: This package (`duckduckgo_search`) has been renamed to `ddgs`! Use `pip install ddgs` instead.\n",
            "  with DDGS() as ddgs:\n"
          ]
        },
        {
          "output_type": "stream",
          "name": "stdout",
          "text": [
            "\u001b[36;1m\u001b[1;3mView the latest news and breaking news today for U.S., world, weather, entertainment, politics and health at CNN.com. Latest Current News: U.S., World, Entertainment, Health, Business, Technology, Politics, Sports. Go to NBCNews.com for breaking news, videos, and the latest top stories in world news, business, politics, health and pop culture. Read the latest headlines, breaking news, and videos at APNews.com, the definitive source for independent journalism from every corner of the globe. The latest news and headlines from Yahoo News. Get breaking news stories and in-depth coverage with videos and photos.\u001b[0m\u001b[32;1m\u001b[1;3mThought: The observation provides links to general news sites, not specifically news about New Delhi. I need to refine my search.\n",
            "Action: duckduckgo_search\n",
            "Action Input: \"New Delhi news today\"\u001b[0m"
          ]
        },
        {
          "output_type": "stream",
          "name": "stderr",
          "text": [
            "/usr/local/lib/python3.11/dist-packages/langchain_community/utilities/duckduckgo_search.py:63: RuntimeWarning: This package (`duckduckgo_search`) has been renamed to `ddgs`! Use `pip install ddgs` instead.\n",
            "  with DDGS() as ddgs:\n"
          ]
        },
        {
          "output_type": "stream",
          "name": "stdout",
          "text": [
            "\u001b[36;1m\u001b[1;3mFox News falls in line with Trump’s Epstein plea — but will the rest of MAGA media comply? Analysis for … Latest Current News: U.S., World, Entertainment, Health, Business, Technology, Politics, Sports. Comprehensive up-to-date news coverage, aggregated from sources all over the world by Google News. Members of Connecticut's congressional delegation called Musallet's killing \"appalling an unacceptable\" as well as … Catch up on big news, and wind down to end your day. The biggest stories of our time, in 20 minutes a day. Original …\u001b[0m\u001b[32;1m\u001b[1;3mThought: The observation still provides general news sources and doesn't focus specifically on New Delhi. I need to try a different approach, perhaps focusing on a specific news source known for Indian coverage.\n",
            "Action: duckduckgo_search\n",
            "Action Input: \"NDTV New Delhi news\"\u001b[0m"
          ]
        },
        {
          "output_type": "stream",
          "name": "stderr",
          "text": [
            "/usr/local/lib/python3.11/dist-packages/langchain_community/utilities/duckduckgo_search.py:63: RuntimeWarning: This package (`duckduckgo_search`) has been renamed to `ddgs`! Use `pip install ddgs` instead.\n",
            "  with DDGS() as ddgs:\n"
          ]
        },
        {
          "output_type": "stream",
          "name": "stdout",
          "text": [
            "\u001b[36;1m\u001b[1;3mJun 7, 2021 · Timeless TV Network is owned by HC2 it's more like info ad channel than anything else. Have it here in Albuquerque's TV broadcast market KWPL-LD, rf ch. 30 remapped ch. … #EXTINF:0,Updated:8/15-NDTV http://ndtv.live-s.cdn.bitgravity.com/cdn-live-b7/_definst_/ndtv/live/ndtv247live.smil/playlist.m3u8 #EXTINF:0,Updated:8/15-i24 News (EN) … Jan 1, 2025 · Several roads in Delhi were jam-packed and long queues formed at key metro stations as huge crowds thronged to India Gate, Connaught Place and religious places across … Feb 16, 2025 · \"Meri ladki ke kila ghus gaya (a nail pierced my daughter's head)\", said a man, whose 7-year-old daughter was among the 18 who died during a stampede at the New Delhi Railway Station late on Saturday. 4 days ago · New Delhi: Sneha Debnath, a 19-year-old girl from Sabroom in South Tripura district, reportedly went missing in the national capital. Following this, Tripura Chief Minister Manik …\u001b[0m\u001b[32;1m\u001b[1;3mThought: I now have some specific news items from NDTV, a reputable Indian news source.  I can synthesize this into a summary.\n",
            "\n",
            "Final Answer: Recent news from New Delhi includes reports of a stampede at the New Delhi Railway Station resulting in 18 deaths, the disappearance of a 19-year-old girl from Tripura, and traffic congestion in the city due to large crowds at various locations.  More detailed information would require accessing the linked articles from the NDTV search results.\n",
            "\u001b[0m\n",
            "\n",
            "\u001b[1m> Finished chain.\u001b[0m\n",
            "{'input': 'latest news of new delhi', 'output': 'Recent news from New Delhi includes reports of a stampede at the New Delhi Railway Station resulting in 18 deaths, the disappearance of a 19-year-old girl from Tripura, and traffic congestion in the city due to large crowds at various locations.  More detailed information would require accessing the linked articles from the NDTV search results.'}\n"
          ]
        }
      ]
    },
    {
      "cell_type": "code",
      "source": [
        "response['output']"
      ],
      "metadata": {
        "colab": {
          "base_uri": "https://localhost:8080/",
          "height": 70
        },
        "id": "FEjQdvFVSVG3",
        "outputId": "2ad79716-00ab-4c54-8b00-364ce44bb630"
      },
      "execution_count": 77,
      "outputs": [
        {
          "output_type": "execute_result",
          "data": {
            "text/plain": [
              "'Recent news from New Delhi includes reports of a stampede at the New Delhi Railway Station resulting in 18 deaths, the disappearance of a 19-year-old girl from Tripura, and traffic congestion in the city due to large crowds at various locations.  More detailed information would require accessing the linked articles from the NDTV search results.'"
            ],
            "application/vnd.google.colaboratory.intrinsic+json": {
              "type": "string"
            }
          },
          "metadata": {},
          "execution_count": 77
        }
      ]
    }
  ]
}