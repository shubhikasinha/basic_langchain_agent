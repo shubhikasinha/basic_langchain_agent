{
  "nbformat": 4,
  "nbformat_minor": 0,
  "metadata": {
    "colab": {
      "provenance": []
    },
    "kernelspec": {
      "name": "python3",
      "display_name": "Python 3"
    },
    "language_info": {
      "name": "python"
    }
  },
  "cells": [
    {
      "cell_type": "code",
      "execution_count": 1,
      "metadata": {
        "id": "AESXjHDIZCmj"
      },
      "outputs": [],
      "source": [
        "import os\n",
        "os.environ[\"GOOGLE_API_KEY\"] = \"my_key\""
      ]
    },
    {
      "cell_type": "code",
      "source": [
        "!pip install -q langchain-google-genai langchain-community langchain-core requests duckduckgo-search"
      ],
      "metadata": {
        "colab": {
          "base_uri": "https://localhost:8080/"
        },
        "id": "pEvBaSuXaSNk",
        "outputId": "aa141011-23c7-4e3d-9554-1f87ddead3d3"
      },
      "execution_count": 2,
      "outputs": [
        {
          "output_type": "stream",
          "name": "stdout",
          "text": [
            "\u001b[?25l   \u001b[90m━━━━━━━━━━━━━━━━━━━━━━━━━━━━━━━━━━━━━━━━\u001b[0m \u001b[32m0.0/47.8 kB\u001b[0m \u001b[31m?\u001b[0m eta \u001b[36m-:--:--\u001b[0m\r\u001b[2K   \u001b[90m━━━━━━━━━━━━━━━━━━━━━━━━━━━━━━━━━━━━━━━━\u001b[0m \u001b[32m47.8/47.8 kB\u001b[0m \u001b[31m3.4 MB/s\u001b[0m eta \u001b[36m0:00:00\u001b[0m\n",
            "\u001b[2K   \u001b[90m━━━━━━━━━━━━━━━━━━━━━━━━━━━━━━━━━━━━━━━━\u001b[0m \u001b[32m2.5/2.5 MB\u001b[0m \u001b[31m36.2 MB/s\u001b[0m eta \u001b[36m0:00:00\u001b[0m\n",
            "\u001b[2K   \u001b[90m━━━━━━━━━━━━━━━━━━━━━━━━━━━━━━━━━━━━━━━━\u001b[0m \u001b[32m1.4/1.4 MB\u001b[0m \u001b[31m16.9 MB/s\u001b[0m eta \u001b[36m0:00:00\u001b[0m\n",
            "\u001b[2K   \u001b[90m━━━━━━━━━━━━━━━━━━━━━━━━━━━━━━━━━━━━━━━━\u001b[0m \u001b[32m3.3/3.3 MB\u001b[0m \u001b[31m47.7 MB/s\u001b[0m eta \u001b[36m0:00:00\u001b[0m\n",
            "\u001b[2K   \u001b[90m━━━━━━━━━━━━━━━━━━━━━━━━━━━━━━━━━━━━━━━━\u001b[0m \u001b[32m45.2/45.2 kB\u001b[0m \u001b[31m2.5 MB/s\u001b[0m eta \u001b[36m0:00:00\u001b[0m\n",
            "\u001b[2K   \u001b[90m━━━━━━━━━━━━━━━━━━━━━━━━━━━━━━━━━━━━━━━━\u001b[0m \u001b[32m50.9/50.9 kB\u001b[0m \u001b[31m2.5 MB/s\u001b[0m eta \u001b[36m0:00:00\u001b[0m\n",
            "\u001b[?25h\u001b[31mERROR: pip's dependency resolver does not currently take into account all the packages that are installed. This behaviour is the source of the following dependency conflicts.\n",
            "google-generativeai 0.8.5 requires google-ai-generativelanguage==0.6.15, but you have google-ai-generativelanguage 0.6.18 which is incompatible.\u001b[0m\u001b[31m\n",
            "\u001b[0m"
          ]
        }
      ]
    },
    {
      "cell_type": "code",
      "source": [
        "from langchain_google_genai import ChatGoogleGenerativeAI\n",
        "from langchain_core.tools import tool\n",
        "import requests"
      ],
      "metadata": {
        "id": "te_e82UMadwY"
      },
      "execution_count": 3,
      "outputs": []
    },
    {
      "cell_type": "code",
      "source": [
        "from langchain_community.tools import DuckDuckGoSearchRun\n",
        "\n",
        "search_tool = DuckDuckGoSearchRun()"
      ],
      "metadata": {
        "id": "ztHwbgwZatWH"
      },
      "execution_count": 4,
      "outputs": []
    },
    {
      "cell_type": "code",
      "source": [
        "@tool\n",
        "def get_weather_data(city: str) -> str:\n",
        "\n",
        "  \"\"\"\n",
        "  fetch weather\n",
        "  \"\"\"\n",
        "\n",
        "  url = f'https://api.weatherstack.com/current?access_key=my_key_&query={city}'\n",
        "\n",
        "  response = requests.get(url)\n",
        "\n",
        "  return response.json()"
      ],
      "metadata": {
        "id": "1u8HlGuFX4YE"
      },
      "execution_count": 8,
      "outputs": []
    },
    {
      "cell_type": "code",
      "source": [
        "llm = ChatGoogleGenerativeAI(model=\"gemini-1.5-flash\")"
      ],
      "metadata": {
        "id": "4yveJ02Tbdhz"
      },
      "execution_count": 9,
      "outputs": []
    },
    {
      "cell_type": "code",
      "source": [
        "from langchain.agents import create_react_agent, AgentExecutor\n",
        "from langchain import hub"
      ],
      "metadata": {
        "id": "UIZIGq_dkbDj"
      },
      "execution_count": 10,
      "outputs": []
    },
    {
      "cell_type": "code",
      "source": [
        "prompt = hub.pull(\"hwchase17/react\")"
      ],
      "metadata": {
        "colab": {
          "base_uri": "https://localhost:8080/"
        },
        "id": "s6ynedmwuZ5T",
        "outputId": "c0151b5c-1df8-40df-f9bf-56f58739b689"
      },
      "execution_count": 11,
      "outputs": [
        {
          "output_type": "stream",
          "name": "stderr",
          "text": [
            "/usr/local/lib/python3.11/dist-packages/langsmith/client.py:272: LangSmithMissingAPIKeyWarning: API key must be provided when using hosted LangSmith API\n",
            "  warnings.warn(\n"
          ]
        }
      ]
    },
    {
      "cell_type": "code",
      "source": [
        "agent = create_react_agent(\n",
        "    llm = llm,\n",
        "    tools = [search_tool, get_weather_data],\n",
        "    prompt = prompt\n",
        ")"
      ],
      "metadata": {
        "id": "OGLzIXpsvEEk"
      },
      "execution_count": 12,
      "outputs": []
    },
    {
      "cell_type": "code",
      "source": [
        "agent_executor = AgentExecutor(\n",
        "    agent = agent,\n",
        "    tools = [search_tool, get_weather_data],\n",
        "    verbose = True\n",
        ")"
      ],
      "metadata": {
        "id": "sbIL_RDWvdOi"
      },
      "execution_count": 13,
      "outputs": []
    },
    {
      "cell_type": "code",
      "source": [
        "response = agent_executor.invoke({\"input\" : \"what is the captal of madhay pradesh and find it's current weather condition\"})\n",
        "print(response)"
      ],
      "metadata": {
        "colab": {
          "base_uri": "https://localhost:8080/"
        },
        "id": "HEXzqLLPR0-D",
        "outputId": "739e88c5-9fd8-4491-9281-66b7b0514597"
      },
      "execution_count": 14,
      "outputs": [
        {
          "output_type": "stream",
          "name": "stdout",
          "text": [
            "\n",
            "\n",
            "\u001b[1m> Entering new AgentExecutor chain...\u001b[0m\n",
            "\u001b[32;1m\u001b[1;3mThought: I need to find the capital of Madhya Pradesh first, and then get the current weather there.  I'll use DuckDuckGo for the capital and then the weather API.\n",
            "\n",
            "Action: duckduckgo_search\n",
            "Action Input: capital of madhya pradesh\n",
            "\u001b[0m"
          ]
        },
        {
          "output_type": "stream",
          "name": "stderr",
          "text": [
            "/usr/local/lib/python3.11/dist-packages/langchain_community/utilities/duckduckgo_search.py:63: RuntimeWarning: This package (`duckduckgo_search`) has been renamed to `ddgs`! Use `pip install ddgs` instead.\n",
            "  with DDGS() as ddgs:\n"
          ]
        },
        {
          "output_type": "stream",
          "name": "stdout",
          "text": [
            "\u001b[36;1m\u001b[1;3m2 days ago · Indore (/ ɪnˈdɔːr / ⓘ; ISO: Indaura, Hindi: [ɪn̪d̪ɔːr]) is the largest and most populous city in the Indian state of Madhya Pradesh. The commercial capital of the state, it has been … 6 days ago · Madhya Pradesh, state of India that is situated in the heart of the country. It has no coastline and no international frontier. Its physiography is characterized by low hills, extensive … May 23, 2025 · Madhya Pradesh is a state in central India. Its capital is Bhopal, and Madhya Pradesh is the second-largest Indian state by area and the fifth-largest state by population with … Oct 21, 2024 · In the month of November 2000, India obtained three new states – Chattisgarh formed out of Madhya Pradesh, Uttaranchal from Uttar Pradesh, and Jharkhand from Bihar. In … Aug 19, 2024 · Discover Bhopal, the vibrant capital of Madhya Pradesh, known for its rich history, stunning architecture, and lush lakes. Explore the city's cultural heritage, including the iconic …\u001b[0m\u001b[32;1m\u001b[1;3mQuestion: what is the captal of madhay pradesh and find it's current weather condition\n",
            "Thought: I need to find the capital of Madhya Pradesh first, and then get the current weather there.  I'll use DuckDuckGo for the capital and then the weather API.\n",
            "\n",
            "Action: duckduckgo_search\n",
            "Action Input: capital of madhya pradesh\n",
            "\u001b[0m"
          ]
        },
        {
          "output_type": "stream",
          "name": "stderr",
          "text": [
            "/usr/local/lib/python3.11/dist-packages/langchain_community/utilities/duckduckgo_search.py:63: RuntimeWarning: This package (`duckduckgo_search`) has been renamed to `ddgs`! Use `pip install ddgs` instead.\n",
            "  with DDGS() as ddgs:\n"
          ]
        },
        {
          "output_type": "stream",
          "name": "stdout",
          "text": [
            "\u001b[36;1m\u001b[1;3mIndore (/ ɪnˈdɔːr / ⓘ; ISO: Indaura, Hindi: [ɪn̪d̪ɔːr]) is the largest and most populous city in the Indian state of Madhya Pradesh. The commercial capital of the state, it has been declared as the cleanest city of India 7 … 6 days ago · Madhya Pradesh, state of India that is situated in the heart of the country. It has no coastline and no international frontier. Its physiography is characterized by low hills, extensive plateaus, and river valleys. The … May 23, 2025 · Madhya Pradesh is a state in central India. Its capital is Bhopal, and Madhya Pradesh is the second-largest Indian state by area and the fifth-largest state by population with over 72 million residents. Oct 21, 2024 · In the month of November 2000, India obtained three new states – Chattisgarh formed out of Madhya Pradesh, Uttaranchal from Uttar Pradesh, and Jharkhand from Bihar. In June 2014, Telangana was cut out of … Aug 19, 2024 · Discover Bhopal, the vibrant capital of Madhya Pradesh, known for its rich history, stunning architecture, and lush lakes. Explore the city's cultural heritage, including the iconic Upper Lake, historic monuments, …\u001b[0m\u001b[32;1m\u001b[1;3mThought:The DuckDuckGo search results indicate that Bhopal is the capital of Madhya Pradesh.  Now I need to get the current weather for Bhopal.\n",
            "\n",
            "Action: get_weather_data\n",
            "Action Input: Bhopal\n",
            "\u001b[0m\u001b[33;1m\u001b[1;3m{'request': {'type': 'City', 'query': 'Bhopal, India', 'language': 'en', 'unit': 'm'}, 'location': {'name': 'Bhopal', 'country': 'India', 'region': 'Madhya Pradesh', 'lat': '23.267', 'lon': '77.400', 'timezone_id': 'Asia/Kolkata', 'localtime': '2025-07-17 18:07', 'localtime_epoch': 1752775620, 'utc_offset': '5.50'}, 'current': {'observation_time': '12:37 PM', 'temperature': 26, 'weather_code': 143, 'weather_icons': ['https://cdn.worldweatheronline.com/images/wsymbols01_png_64/wsymbol_0006_mist.png'], 'weather_descriptions': ['Haze'], 'astro': {'sunrise': '05:45 AM', 'sunset': '07:09 PM', 'moonrise': '11:35 PM', 'moonset': '11:44 AM', 'moon_phase': 'Last Quarter', 'moon_illumination': 62}, 'air_quality': {'co': '434.75', 'no2': '3.33', 'o3': '97', 'so2': '8.695', 'pm2_5': '56.055', 'pm10': '152.44', 'us-epa-index': '3', 'gb-defra-index': '3'}, 'wind_speed': 6, 'wind_degree': 262, 'wind_dir': 'W', 'pressure': 1004, 'precip': 0.1, 'humidity': 100, 'cloudcover': 75, 'feelslike': 30, 'uv_index': 0, 'visibility': 5, 'is_day': 'yes'}}\u001b[0m\u001b[32;1m\u001b[1;3mThought:I now have the weather information for Bhopal.\n",
            "\n",
            "Final Answer: The capital of Madhya Pradesh is Bhopal. The current weather in Bhopal is hazy with a temperature of 26 degrees Celsius,  a feels like temperature of 30 degrees Celsius, and 100% humidity.  The wind speed is 6 km/h from the West.\n",
            "\u001b[0m\n",
            "\n",
            "\u001b[1m> Finished chain.\u001b[0m\n",
            "{'input': \"what is the captal of madhay pradesh and find it's current weather condition\", 'output': 'The capital of Madhya Pradesh is Bhopal. The current weather in Bhopal is hazy with a temperature of 26 degrees Celsius,  a feels like temperature of 30 degrees Celsius, and 100% humidity.  The wind speed is 6 km/h from the West.'}\n"
          ]
        }
      ]
    },
    {
      "cell_type": "code",
      "source": [
        "response['output']"
      ],
      "metadata": {
        "colab": {
          "base_uri": "https://localhost:8080/",
          "height": 70
        },
        "id": "wAt__gg5SIYR",
        "outputId": "2e1bb71b-c93b-4ecd-e075-3b7b11035e0e"
      },
      "execution_count": 15,
      "outputs": [
        {
          "output_type": "execute_result",
          "data": {
            "text/plain": [
              "'The capital of Madhya Pradesh is Bhopal. The current weather in Bhopal is hazy with a temperature of 26 degrees Celsius,  a feels like temperature of 30 degrees Celsius, and 100% humidity.  The wind speed is 6 km/h from the West.'"
            ],
            "application/vnd.google.colaboratory.intrinsic+json": {
              "type": "string"
            }
          },
          "metadata": {},
          "execution_count": 15
        }
      ]
    }
  ]
}